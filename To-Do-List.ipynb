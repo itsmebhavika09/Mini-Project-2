{
 "cells": [
  {
   "cell_type": "code",
   "execution_count": null,
   "id": "034e7e01",
   "metadata": {},
   "outputs": [],
   "source": [
    "import tkinter as tk\n",
    "from tkinter import messagebox\n",
    "root = tk.Tk()\n",
    "root.title(\"To-Do List App\")\n",
    "all_tasks = []\n",
    "pending_tasks = []\n",
    "completed_tasks = []\n",
    "def refresh_all_lists():\n",
    "    all_listbox.delete(0, tk.END)\n",
    "    pending_listbox.delete(0, tk.END)\n",
    "    completed_listbox.delete(0, tk.END)\n",
    "    for task in all_tasks:\n",
    "        all_listbox.insert(tk.END, task)\n",
    "    for task in pending_tasks:\n",
    "        pending_listbox.insert(tk.END, task)\n",
    "    for task in completed_tasks:\n",
    "        completed_listbox.insert(tk.END, task)\n",
    "def add_task():\n",
    "    task = task_entry.get()\n",
    "    if task:\n",
    "        display_task = f\"{task}\"  \n",
    "        all_tasks.append(display_task)\n",
    "        pending_tasks.append(display_task)\n",
    "        refresh_all_lists()\n",
    "        task_entry.delete(0, tk.END)\n",
    "    else:\n",
    "        messagebox.showwarning(\"Input Error\", \"Please enter a task.\")\n",
    "def mark_as_completed():\n",
    "    selected_index = pending_listbox.curselection()\n",
    "    if selected_index:\n",
    "        task = pending_listbox.get(selected_index)\n",
    "        completed_task = task + \" ✔️\"\n",
    "        pending_tasks.remove(task)\n",
    "        all_tasks.remove(task)\n",
    "        completed_tasks.append(completed_task)\n",
    "        all_tasks.append(completed_task)\n",
    "        refresh_all_lists()\n",
    "    else:\n",
    "        messagebox.showwarning(\"Selection Error\", \"Select a pending task to mark as completed.\")\n",
    "task_entry = tk.Entry(root, width=40)\n",
    "task_entry.grid(row=0, column=0, padx=10, pady=10)\n",
    "add_button = tk.Button(root, text=\"Add Task\", width=15, command=add_task)\n",
    "add_button.grid(row=0, column=1, padx=10)\n",
    "tk.Label(root, text=\"All Tasks\", font=('Arial', 12, 'bold')).grid(row=1, column=0, columnspan=2, sticky='w', padx=10)\n",
    "all_listbox = tk.Listbox(root, width=65, height=6)\n",
    "all_listbox.grid(row=2, column=0, columnspan=2, padx=10)\n",
    "tk.Label(root, text=\"Pending Tasks\", font=('Arial', 12, 'bold')).grid(row=3, column=0, sticky='w', padx=10)\n",
    "tk.Label(root, text=\"Completed Tasks\", font=('Arial', 12, 'bold')).grid(row=3, column=1, sticky='w', padx=10)\n",
    "pending_listbox = tk.Listbox(root, width=30, height=6)\n",
    "pending_listbox.grid(row=4, column=0, padx=10)\n",
    "completed_listbox = tk.Listbox(root, width=30, height=6)\n",
    "completed_listbox.grid(row=4, column=1, padx=10)\n",
    "complete_button = tk.Button(root, text=\"Mark as Completed\", width=20, command=mark_as_completed)\n",
    "complete_button.grid(row=5, column=0, columnspan=2, pady=10)\n",
    "root.mainloop()"
   ]
  }
 ],
 "metadata": {
  "kernelspec": {
   "display_name": "Python 3 (ipykernel)",
   "language": "python",
   "name": "python3"
  },
  "language_info": {
   "codemirror_mode": {
    "name": "ipython",
    "version": 3
   },
   "file_extension": ".py",
   "mimetype": "text/x-python",
   "name": "python",
   "nbconvert_exporter": "python",
   "pygments_lexer": "ipython3",
   "version": "3.13.4"
  }
 },
 "nbformat": 4,
 "nbformat_minor": 5
}
